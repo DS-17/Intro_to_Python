{
  "nbformat": 4,
  "nbformat_minor": 0,
  "metadata": {
    "colab": {
      "name": "09_modules.ipynb",
      "provenance": [],
      "collapsed_sections": []
    },
    "kernelspec": {
      "name": "python3",
      "display_name": "Python 3"
    }
  },
  "cells": [
    {
      "cell_type": "markdown",
      "metadata": {
        "id": "QgpBiDw8M9U4",
        "colab_type": "text"
      },
      "source": [
        "# Modules & Packages\n",
        "\n",
        "Python files are modules. A folder of Python files (with one special file added: `__init__.py`) is a package. The assignment folder of this guide is a package. The init file is a python file that exists to mark a folder as a Python package. It is not required to be empty, but it generally is. Packages have the advantage of allowing the import of all the files at once, rather than each file individually.\n",
        "\n",
        "[Python Import | python.org](https://docs.python.org/3/reference/import.html)"
      ]
    },
    {
      "cell_type": "markdown",
      "metadata": {
        "id": "n-jxHNstIvJ6",
        "colab_type": "text"
      },
      "source": [
        "## Import This - Prefered\n",
        "\n",
        "This is by far the best way to handle imports. Contrary to popular belief - this does not waste memory. All import styles use almost exactly the same amount of memory. All of them will excecute and import the entire namespace of the target, even when it doesn't seem like it. The names are there, in memory no matter which style you choose - but they may or may not be injected into your namespace. This choice is not about memory, it's about namespace clutter. The following example is prefered because it causes the least namespace clutter."
      ]
    },
    {
      "cell_type": "code",
      "metadata": {
        "id": "LfdZ22TtIWZC",
        "colab_type": "code",
        "colab": {}
      },
      "source": [
        "import random"
      ],
      "execution_count": 0,
      "outputs": []
    },
    {
      "cell_type": "code",
      "metadata": {
        "id": "IQSymBgGIax0",
        "colab_type": "code",
        "outputId": "df962af3-c61e-4970-dcbb-743fb6aca1c3",
        "colab": {
          "base_uri": "https://localhost:8080/",
          "height": 34
        }
      },
      "source": [
        "print(random.randint(1, 6))"
      ],
      "execution_count": 2,
      "outputs": [
        {
          "output_type": "stream",
          "text": [
            "4\n"
          ],
          "name": "stdout"
        }
      ]
    },
    {
      "cell_type": "markdown",
      "metadata": {
        "id": "09IU_AD-Ixle",
        "colab_type": "text"
      },
      "source": [
        "## From That Import This - Acceptable\n",
        "\n",
        "This style might be the most common import style. It offers a more convienient calling signature for the names that get imported. While this example doesn't have the problems of the next example, it still has issues. For one, everything you import like this will be added to the top level of your namespace. At small scale this is not a problem, but it can become a problem if you have many imports in a large project.\n",
        "\n",
        "This style has the added benifit of listing all the names you intend to use at the top of your module. However, if later you want to use some other part of the module you have to scroll up add that to the import statement, then scroll back down to your code. Small project - no big deal, large project - major pain. Some IDEs can handle imports for you, and this can give you the best of all worlds."
      ]
    },
    {
      "cell_type": "code",
      "metadata": {
        "id": "uOd4__i_M8Js",
        "colab_type": "code",
        "colab": {}
      },
      "source": [
        "from random import randint"
      ],
      "execution_count": 0,
      "outputs": []
    },
    {
      "cell_type": "code",
      "metadata": {
        "id": "yhaBPa0RILbj",
        "colab_type": "code",
        "outputId": "323766a4-6737-4639-bb04-b0aff427abb8",
        "colab": {
          "base_uri": "https://localhost:8080/",
          "height": 34
        }
      },
      "source": [
        "print(randint(1, 6))"
      ],
      "execution_count": 4,
      "outputs": [
        {
          "output_type": "stream",
          "text": [
            "1\n"
          ],
          "name": "stdout"
        }
      ]
    },
    {
      "cell_type": "markdown",
      "metadata": {
        "id": "P3Iuog6VI0zE",
        "colab_type": "text"
      },
      "source": [
        "## Star Import - Ugly\n",
        "\n",
        "The star import can get you in trouble because when you star import multiple modules you loose encapsulation of those modules. This can also pollute your namespace. In the example below all we need is the `randint()` function - but we've imported all the names in the random module to the top level of our namespace. Best case: we have a cluttered namespace. Worse case: we can no longer be sure that we're not creating name conflicts. Don't use star imports in production code. It's fine if it's the only import in a single module, but it's still bad form."
      ]
    },
    {
      "cell_type": "code",
      "metadata": {
        "id": "GIitrbCtIlo-",
        "colab_type": "code",
        "colab": {}
      },
      "source": [
        "from random import *"
      ],
      "execution_count": 0,
      "outputs": []
    },
    {
      "cell_type": "code",
      "metadata": {
        "id": "JjC2ht5bIpGO",
        "colab_type": "code",
        "outputId": "e43194de-5a7d-43cf-e5fa-9592808c44f8",
        "colab": {
          "base_uri": "https://localhost:8080/",
          "height": 34
        }
      },
      "source": [
        "print(randrange(2, 11, 2))  # random integer in range [2, 10] by 2"
      ],
      "execution_count": 6,
      "outputs": [
        {
          "output_type": "stream",
          "text": [
            "4\n"
          ],
          "name": "stdout"
        }
      ]
    }
  ]
}